{
 "cells": [
  {
   "cell_type": "code",
   "execution_count": null,
   "metadata": {},
   "outputs": [],
   "source": [
    "%pip install pandas seaborn matplotlib"
   ]
  },
  {
   "cell_type": "code",
   "execution_count": 1,
   "metadata": {},
   "outputs": [],
   "source": [
    "import pandas as pd\n",
    "import numpy as np\n",
    "import seaborn as sns\n",
    "import matplotlib.pyplot as plt"
   ]
  },
  {
   "cell_type": "code",
   "execution_count": null,
   "metadata": {},
   "outputs": [],
   "source": [
    "imdb = pd.read_csv(\"../dados/imdb.csv\")"
   ]
  },
  {
   "attachments": {},
   "cell_type": "markdown",
   "metadata": {},
   "source": [
    "## Gráficos de dispersão"
   ]
  },
  {
   "cell_type": "code",
   "execution_count": null,
   "metadata": {},
   "outputs": [],
   "source": [
    "sns.scatterplot(data=imdb, x=\"orcamento\", y =\"receita\")"
   ]
  },
  {
   "cell_type": "code",
   "execution_count": null,
   "metadata": {},
   "outputs": [],
   "source": [
    "sns.scatterplot(data=imdb, x=\"orcamento\", y =\"receita\")\n",
    "plt.axline([0,0], slope = 1, color=\"red\")\n"
   ]
  },
  {
   "cell_type": "code",
   "execution_count": null,
   "metadata": {},
   "outputs": [],
   "source": [
    "imdb_lucro = imdb.assign(\n",
    "    lucro = lambda x: x.receita - x.orcamento\n",
    ")\n",
    "sns.scatterplot(data=imdb_lucro, x=\"orcamento\", y =\"receita\", hue=\"lucro\")"
   ]
  },
  {
   "cell_type": "code",
   "execution_count": null,
   "metadata": {},
   "outputs": [],
   "source": [
    "imdb_lucro2 = imdb.assign(\n",
    "    lucrou = lambda x: np.select(\n",
    "        [x.receita > x.orcamento, x.receita <= x.orcamento],\n",
    "        [\"Sim\", \"Não\"],\n",
    "        \"Sem info\"\n",
    "    )\n",
    ")\n",
    "sns.scatterplot(data=imdb_lucro2, x=\"orcamento\", y =\"receita\", hue=\"lucrou\")"
   ]
  },
  {
   "cell_type": "code",
   "execution_count": null,
   "metadata": {},
   "outputs": [],
   "source": [
    "sns.scatterplot(data=imdb, x=\"orcamento\", y =\"receita\", color=\"red\")"
   ]
  },
  {
   "cell_type": "code",
   "execution_count": null,
   "metadata": {},
   "outputs": [],
   "source": [
    "sns.scatterplot(data=imdb_lucro2, x=\"orcamento\", y =\"receita\", hue=\"lucrou\", palette = {\n",
    "    \"Sem info\": \"gray\",\n",
    "    \"Sim\": \"green\",\n",
    "    \"Não\": \"red\"\n",
    "})"
   ]
  },
  {
   "attachments": {},
   "cell_type": "markdown",
   "metadata": {},
   "source": [
    "## Gráficos de linha"
   ]
  },
  {
   "cell_type": "code",
   "execution_count": null,
   "metadata": {},
   "outputs": [],
   "source": [
    "notas_por_ano = imdb.groupby(\"ano\", as_index=False).agg(\n",
    "    nota_media = (\"nota_imdb\", \"mean\")\n",
    ")\n",
    "sns.lineplot(data=notas_por_ano, x=\"ano\", y=\"nota_media\")"
   ]
  },
  {
   "cell_type": "code",
   "execution_count": null,
   "metadata": {},
   "outputs": [],
   "source": [
    "notas_spielberg = (imdb.\n",
    "    query(\"direcao == 'Steven Spielberg'\").\n",
    "    groupby(\"ano\", as_index=False).\n",
    "    agg(\n",
    "        nota_media = (\"nota_imdb\", \"mean\")\n",
    "    )\n",
    ")\n",
    "plot = sns.lineplot(data=notas_spielberg, x=\"ano\", y=\"nota_media\")\n",
    "for _, ano, nota_media in notas_spielberg.itertuples():\n",
    "    plot.annotate(round(nota_media,1), (ano, nota_media + 0.1), bbox={\"facecolor\":'white'})\n"
   ]
  },
  {
   "attachments": {},
   "cell_type": "markdown",
   "metadata": {},
   "source": [
    "## Gráficos de barras"
   ]
  },
  {
   "cell_type": "code",
   "execution_count": null,
   "metadata": {},
   "outputs": [],
   "source": [
    "top_direcao = (imdb.\n",
    "    groupby(\"direcao\", as_index=False).\n",
    "    agg(\n",
    "        n_filmes = (\"titulo\", \"count\")\n",
    "    ).\n",
    "    nlargest(10, \"n_filmes\").\n",
    "    sort_values(\"n_filmes\", ascending=False)\n",
    ")\n",
    "sns.barplot(top_direcao, x=\"direcao\", y=\"n_filmes\", color=\"grey\")\n",
    "plt.xticks(rotation=45, ha='right')\n"
   ]
  },
  {
   "cell_type": "code",
   "execution_count": null,
   "metadata": {},
   "outputs": [],
   "source": [
    "sns.barplot(top_direcao, x=\"n_filmes\", y=\"direcao\")"
   ]
  },
  {
   "attachments": {},
   "cell_type": "markdown",
   "metadata": {},
   "source": [
    "## Gráficos de distribuição"
   ]
  },
  {
   "cell_type": "code",
   "execution_count": null,
   "metadata": {},
   "outputs": [],
   "source": [
    "lucro_spielberg = (imdb.\n",
    "    query(\"direcao=='Steven Spielberg'\").\n",
    "    assign(lucro=lambda x: x.receita-x.orcamento)\n",
    "    )\n",
    "sns.histplot(data=lucro_spielberg, x=\"lucro\", bins=5)"
   ]
  },
  {
   "cell_type": "code",
   "execution_count": null,
   "metadata": {},
   "outputs": [],
   "source": [
    "sns.histplot(data=lucro_spielberg, x=\"lucro\", binwidth=100000000)"
   ]
  },
  {
   "cell_type": "code",
   "execution_count": null,
   "metadata": {},
   "outputs": [],
   "source": [
    "\n",
    "(imdb.assign(\n",
    "    n_filmes = imdb.groupby(\"direcao\")[\"titulo\"].transform(\"nunique\")\n",
    ").filter([\"direcao\", \"n_filmes\"]).sort_values(\"n_filmes\", ascending=False))\n",
    "\n",
    "imdb.value_counts(\"direcao\")\n"
   ]
  },
  {
   "cell_type": "code",
   "execution_count": null,
   "metadata": {},
   "outputs": [],
   "source": [
    "direcao_com_mais_filmes = (imdb.\n",
    "    query(\"~direcao.isnull()\").\n",
    "    assign(\n",
    "        n_filmes = lambda x: x.groupby(\"direcao\")[\"direcao\"].transform(\"count\"),\n",
    "        lucro = lambda x: x.receita - x.orcamento\n",
    "    ).\n",
    "    query(\"n_filmes > 50 & ~lucro.isnull()\").\n",
    "    sort_values(\"n_filmes\", ascending=False)\n",
    ")\n",
    "\n",
    "sns.boxplot(data=direcao_com_mais_filmes, x=\"direcao\", y = \"lucro\")\n",
    "plt.xticks(rotation=45, ha='right')"
   ]
  },
  {
   "attachments": {},
   "cell_type": "markdown",
   "metadata": {},
   "source": [
    "## Titulos labels, etc"
   ]
  },
  {
   "cell_type": "code",
   "execution_count": null,
   "metadata": {},
   "outputs": [],
   "source": [
    "imdb_lucro = imdb.assign(\n",
    "    lucro = lambda x: x.receita - x.orcamento\n",
    ")\n",
    "sns.scatterplot(data=imdb_lucro, x=\"orcamento\", y =\"receita\", hue=\"lucro\")\n",
    "plt.xlabel(\"Orçamento\")\n",
    "plt.ylabel(\"Receita\")\n",
    "plt.title(\"Receita vs orçamento!\")\n",
    "plt.legend(title=\"Lucro em Milhões\")"
   ]
  },
  {
   "cell_type": "code",
   "execution_count": null,
   "metadata": {},
   "outputs": [],
   "source": [
    "notas_por_ano = imdb.groupby(\"ano\", as_index=False).agg(\n",
    "    nota_media = (\"nota_imdb\", \"mean\")\n",
    ")\n",
    "sns.lineplot(data=notas_por_ano, x=\"ano\", y=\"nota_media\")\n",
    "plt.xticks(range(1900, 2020, 10), rotation=90)"
   ]
  },
  {
   "cell_type": "code",
   "execution_count": null,
   "metadata": {},
   "outputs": [],
   "source": [
    "notas_por_ano = imdb.groupby(\"ano\", as_index=False).agg(\n",
    "    nota_media = (\"nota_imdb\", \"mean\")\n",
    ")\n",
    "sns.lineplot(data=notas_por_ano, x=\"ano\", y=\"nota_media\")\n",
    "plt.xticks(range(1900, 2030, 10), rotation=90)\n",
    "plt.ylim(0, 10)\n",
    "plt.xlim(1930, 2030)"
   ]
  },
  {
   "cell_type": "code",
   "execution_count": null,
   "metadata": {},
   "outputs": [],
   "source": [
    "sns.set_theme()\n",
    "sns.set_theme(style=\"whitegrid\")\n",
    "notas_por_ano = imdb.groupby(\"ano\", as_index=False).agg(\n",
    "    nota_media = (\"nota_imdb\", \"mean\")\n",
    ")\n",
    "sns.lineplot(data=notas_por_ano, x=\"ano\", y=\"nota_media\")"
   ]
  },
  {
   "attachments": {},
   "cell_type": "markdown",
   "metadata": {},
   "source": [
    "## Facets"
   ]
  },
  {
   "cell_type": "code",
   "execution_count": null,
   "metadata": {},
   "outputs": [],
   "source": [
    "disney = imdb[imdb.producao.isin([\"Walt Disney Animation Studios\", \"Walt Disney Pictures\"])]\n",
    "g = sns.FacetGrid(disney, col=\"producao\", col_wrap=1, aspect=2)\n",
    "g.map(sns.scatterplot, \"orcamento\", \"receita\")\n",
    "g.set_ylabels(\"Receita\")\n",
    "g.set_xlabels(\"Orçamento\")"
   ]
  },
  {
   "cell_type": "code",
   "execution_count": null,
   "metadata": {},
   "outputs": [],
   "source": [
    "fig, axes = plt.subplots(1, 2)\n",
    "plt.subplots(1, 2)\n",
    "imdb_lucro = imdb.assign(\n",
    "    lucro = lambda x: x.receita - x.orcamento\n",
    ")\n",
    "sns.scatterplot(data=imdb_lucro, x=\"orcamento\", y =\"receita\", hue=\"lucro\", ax = axes[0])\n",
    "notas_por_ano = imdb.groupby(\"ano\", as_index=False).agg(\n",
    "    nota_media = (\"nota_imdb\", \"mean\")\n",
    ")\n",
    "sns.lineplot(data=notas_por_ano, x=\"ano\", y=\"nota_media\", ax=axes[1])\n",
    "plt.close() # para não duplicar o gráfico no jupyter.\n"
   ]
  },
  {
   "attachments": {},
   "cell_type": "markdown",
   "metadata": {},
   "source": [
    "## Futuro mais parecido com ggplot?"
   ]
  },
  {
   "cell_type": "code",
   "execution_count": null,
   "metadata": {},
   "outputs": [],
   "source": [
    "from seaborn import objects as so\n",
    "# https://seaborn.pydata.org/tutorial/objects_interface.html\n",
    "\n",
    "(\n",
    "    so.Plot(\n",
    "        imdb, x=\"orcamento\", y=\"receita\",\n",
    "        color=\"nota_imdb\"\n",
    "    )\n",
    "    .add(so.Dot())\n",
    ")"
   ]
  }
 ],
 "metadata": {
  "kernelspec": {
   "display_name": "env",
   "language": "python",
   "name": "python3"
  },
  "language_info": {
   "codemirror_mode": {
    "name": "ipython",
    "version": 3
   },
   "file_extension": ".py",
   "mimetype": "text/x-python",
   "name": "python",
   "nbconvert_exporter": "python",
   "pygments_lexer": "ipython3",
   "version": "3.11.1 (tags/v3.11.1:a7a450f, Dec  6 2022, 19:58:39) [MSC v.1934 64 bit (AMD64)]"
  },
  "orig_nbformat": 4,
  "vscode": {
   "interpreter": {
    "hash": "ff9b445302d1d6fa5da0fdca4c6535d883a805e78711f7bfd3b50e4d08428317"
   }
  }
 },
 "nbformat": 4,
 "nbformat_minor": 2
}
