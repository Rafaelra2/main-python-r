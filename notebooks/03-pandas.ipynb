{
 "cells": [
  {
   "cell_type": "code",
   "execution_count": null,
   "metadata": {},
   "outputs": [],
   "source": [
    "    import pandas as pd\n",
    "    import numpy as np"
   ]
  },
  {
   "attachments": {},
   "cell_type": "markdown",
   "metadata": {},
   "source": [
    "## Introdução ao pandas\n",
    "\n",
    "### Séries"
   ]
  },
  {
   "cell_type": "code",
   "execution_count": null,
   "metadata": {},
   "outputs": [],
   "source": [
    "# uma série é um vetor unidimensional contendo uma sequência de valores\n",
    "# e um vetor de rótulos associados - chamado de índice!\n",
    "x = pd.Series([12,13,1])"
   ]
  },
  {
   "cell_type": "code",
   "execution_count": null,
   "metadata": {},
   "outputs": [],
   "source": [
    "x"
   ]
  },
  {
   "cell_type": "code",
   "execution_count": null,
   "metadata": {},
   "outputs": [],
   "source": [
    "print(type(x.values))\n",
    "x.values"
   ]
  },
  {
   "cell_type": "code",
   "execution_count": null,
   "metadata": {},
   "outputs": [],
   "source": [
    "x.index"
   ]
  },
  {
   "cell_type": "code",
   "execution_count": null,
   "metadata": {},
   "outputs": [],
   "source": [
    "x = pd.Series([1,2,3], index = [\"a\", \"b\", \"c\"])\n",
    "x"
   ]
  },
  {
   "cell_type": "code",
   "execution_count": null,
   "metadata": {},
   "outputs": [],
   "source": [
    "x[x>1]"
   ]
  },
  {
   "attachments": {},
   "cell_type": "markdown",
   "metadata": {},
   "source": [
    "### DataFrame"
   ]
  },
  {
   "cell_type": "code",
   "execution_count": null,
   "metadata": {},
   "outputs": [],
   "source": [
    "# DataFrame's representam tabelas retangulares.\n",
    "# São conjuntos de séries que compartilham o **mesmo** índice\n",
    "df = pd.DataFrame({\n",
    "    \"hello\": [1,2,3],\n",
    "    \"bye\": [4,5,6]\n",
    "})\n"
   ]
  },
  {
   "cell_type": "code",
   "execution_count": null,
   "metadata": {},
   "outputs": [],
   "source": [
    "df"
   ]
  },
  {
   "cell_type": "code",
   "execution_count": null,
   "metadata": {},
   "outputs": [],
   "source": [
    "x = pd.Series([1,2,3], index = [\"a\", \"b\", \"c\"])\n",
    "y = pd.Series([1,2,3], index = [\"x\", \"y\", \"z\"])\n",
    "df = pd.DataFrame({\"col1\": x, \"col2\": y})"
   ]
  },
  {
   "cell_type": "code",
   "execution_count": null,
   "metadata": {},
   "outputs": [],
   "source": [
    "# isso é meio inesperado vindo do Rm - em geral as funções do tidyverse \n",
    "# descartam os 'índices' ou nomes dos vetores.\n",
    "df "
   ]
  },
  {
   "attachments": {},
   "cell_type": "markdown",
   "metadata": {},
   "source": [
    "### Importação dos dados\n",
    "\n",
    "#### Lendo arquivos"
   ]
  },
  {
   "cell_type": "code",
   "execution_count": null,
   "metadata": {},
   "outputs": [],
   "source": [
    "df = pd.read_csv(\"../dados/imdb.csv\")\n",
    "\n",
    "# Pandas is not the fastest package to read csv code. \n",
    "# If the code is bigger, seek faster packages such as:\n",
    "# https://blog.djnavarro.net/posts/2022-11-30_unpacking-arrow-datasets/"
   ]
  },
  {
   "cell_type": "code",
   "execution_count": null,
   "metadata": {},
   "outputs": [],
   "source": [
    "# Similar as glimpse in R code\n",
    "df.info()"
   ]
  },
  {
   "cell_type": "code",
   "execution_count": null,
   "metadata": {},
   "outputs": [],
   "source": [
    "df.describe(include=\"all\")"
   ]
  },
  {
   "cell_type": "code",
   "execution_count": null,
   "metadata": {},
   "outputs": [],
   "source": [
    "!pip install openpyxl"
   ]
  },
  {
   "cell_type": "code",
   "execution_count": null,
   "metadata": {},
   "outputs": [],
   "source": [
    "df = pd.read_excel(\"../dados/imdb.xlsx\")\n",
    " "
   ]
  },
  {
   "cell_type": "code",
   "execution_count": null,
   "metadata": {},
   "outputs": [],
   "source": [
    "df.info()\n"
   ]
  },
  {
   "cell_type": "code",
   "execution_count": null,
   "metadata": {},
   "outputs": [],
   "source": [
    "# é possível ler de muitos outros formatos. veja por exemplo a tabela aqui:\n",
    "# https://wesmckinney.com/book/accessing-data.html#io_flat_files\n",
    "\n",
    "df_sas = pd.read_sas(\"../dados/imdb.sas7bdat\", encoding=\"UTF-8\")"
   ]
  },
  {
   "cell_type": "code",
   "execution_count": null,
   "metadata": {},
   "outputs": [],
   "source": [
    "#pd.options.display.max_rows = 10000000\n",
    "df_csv2 = pd.read_csv(\"../dados/imdb2.csv\", sep=\";\", na_values=\"NA\" )"
   ]
  },
  {
   "attachments": {},
   "cell_type": "markdown",
   "metadata": {},
   "source": [
    "#### Escrevendo"
   ]
  },
  {
   "cell_type": "code",
   "execution_count": null,
   "metadata": {},
   "outputs": [],
   "source": [
    "df.to_csv(\"../dados/x.csv\", index=False)"
   ]
  },
  {
   "cell_type": "code",
   "execution_count": null,
   "metadata": {},
   "outputs": [],
   "source": [
    "# Good way to save in Python (do not lose information) \n",
    "df.to_pickle(\"../dados/x.pickle\")\n",
    "\n",
    "# But is not modern since it has several problems. Try to use to_parquet "
   ]
  },
  {
   "attachments": {},
   "cell_type": "markdown",
   "metadata": {},
   "source": [
    "### Manipulação de dados"
   ]
  },
  {
   "cell_type": "code",
   "execution_count": null,
   "metadata": {},
   "outputs": [],
   "source": [
    "# vamos pensar em manipulação de dados fazendo um paralelo com o dplyr.\n",
    "# dplyr: 6 verbos principais\n",
    "# select()    # seleciona colunas do data.frame\n",
    "# arrange()   # reordena as linhas do data.frame\n",
    "# filter()    # filtra linhas do data.frame\n",
    "# mutate()    # cria novas colunas no data.frame (ou atualiza as colunas existentes)\n",
    "# summarise() + group_by() # sumariza o data.frame\n",
    "# left_join   # junta dois data.frames"
   ]
  },
  {
   "attachments": {},
   "cell_type": "markdown",
   "metadata": {},
   "source": [
    "#### select"
   ]
  },
  {
   "cell_type": "code",
   "execution_count": null,
   "metadata": {},
   "outputs": [],
   "source": [
    "df[[\"titulo\"]]"
   ]
  },
  {
   "cell_type": "code",
   "execution_count": null,
   "metadata": {},
   "outputs": [],
   "source": [
    "# o filter atua nos índices do DataFrame, podendo ser o índice das\n",
    "# linhas ou colunas. O padrão é pegar pelas colunas.\n",
    "df.filter([\"titulo\", \"ano\"])"
   ]
  },
  {
   "cell_type": "code",
   "execution_count": null,
   "metadata": {},
   "outputs": [],
   "source": [
    "df.columns"
   ]
  },
  {
   "cell_type": "code",
   "execution_count": null,
   "metadata": {},
   "outputs": [],
   "source": [
    "# Ao contrário do dplyr, não dá para remover colunas com o filter.\n",
    "# para isso vc pode usar a drop que por padrão tira os indices\n",
    "df.drop([\"ano\"], axis = \"columns\")"
   ]
  },
  {
   "cell_type": "code",
   "execution_count": null,
   "metadata": {},
   "outputs": [],
   "source": [
    "## If you select all columns beside the column year\n",
    "def select_desired_columns (df):\n",
    "    return df.columns[[x!=\"ano\" for x in df.columns]]\n",
    "\n",
    "df.filter( select_desired_columns(df) )"
   ]
  },
  {
   "cell_type": "code",
   "execution_count": null,
   "metadata": {},
   "outputs": [],
   "source": [
    "# como não tem non-standard evaluation, vc sempre pode colocar\n",
    "# o nome numa lista e depois filtrar.\n",
    "colunas = [\"titulo\", \"ano\"]\n",
    "df.filter(colunas)"
   ]
  },
  {
   "attachments": {},
   "cell_type": "markdown",
   "metadata": {},
   "source": [
    "#### arrange"
   ]
  },
  {
   "cell_type": "code",
   "execution_count": null,
   "metadata": {},
   "outputs": [],
   "source": [
    "# Order and then take the year\n",
    "# Is like the pipeline\n",
    "# True is the standard\n",
    "df_ordered = df.sort_values([\"ano\", ascending=False]).filter([\"ano\"])"
   ]
  },
  {
   "attachments": {},
   "cell_type": "markdown",
   "metadata": {},
   "source": [
    "#### filter"
   ]
  },
  {
   "cell_type": "code",
   "execution_count": null,
   "metadata": {},
   "outputs": [],
   "source": [
    "df_filter = df.query(\"ano == 2020 &  duracao==102\" ) "
   ]
  },
  {
   "cell_type": "code",
   "execution_count": 43,
   "metadata": {},
   "outputs": [],
   "source": [
    "ano = 2020\n",
    "duracao  = 102\n",
    "df_filter = df.query(f\"ano == (ano) &  duracao==(duracao)\" ) # meio esquisito pq a condição está entre aspas..."
   ]
  },
  {
   "cell_type": "code",
   "execution_count": null,
   "metadata": {},
   "outputs": [],
   "source": [
    "df[df[\"ano\"] == 2020] # muito parecido com base R"
   ]
  }
 ],
 "metadata": {
  "kernelspec": {
   "display_name": "Python 3",
   "language": "python",
   "name": "python3"
  },
  "language_info": {
   "codemirror_mode": {
    "name": "ipython",
    "version": 3
   },
   "file_extension": ".py",
   "mimetype": "text/x-python",
   "name": "python",
   "nbconvert_exporter": "python",
   "pygments_lexer": "ipython3"
  },
  "orig_nbformat": 4,
  "vscode": {
   "interpreter": {
    "hash": "a0e3e0edbf78f3896ccb509f4d516822c6c8dc8c9fd8a9a32161914d9732275d"
   }
  }
 },
 "nbformat": 4,
 "nbformat_minor": 2
}
