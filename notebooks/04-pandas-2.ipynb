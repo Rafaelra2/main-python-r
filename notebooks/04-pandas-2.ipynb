{
 "cells": [
  {
   "attachments": {},
   "cell_type": "markdown",
   "metadata": {},
   "source": [
    "## Pandas ++\n",
    "[referencia rapida](https://pandas.pydata.org/pandas-docs/stable/getting_started/comparison/comparison_with_r.html#quick-reference)"
   ]
  },
  {
   "cell_type": "code",
   "execution_count": null,
   "metadata": {},
   "outputs": [],
   "source": [
    "# vamos pensar em manipulação de dados fazendo um paralelo com o dplyr.\n",
    "# dplyr: 6 verbos principais\n",
    "# select()    # seleciona colunas do data.frame\n",
    "# arrange()   # reordena as linhas do data.frame\n",
    "# filter()    # filtra linhas do data.frame\n",
    "# mutate()    # cria novas colunas no data.frame (ou atualiza as colunas existentes)\n",
    "# summarise() + group_by() # sumariza o data.frame\n",
    "# left_join   # junta dois data.frames"
   ]
  },
  {
   "cell_type": "code",
   "execution_count": null,
   "metadata": {},
   "outputs": [],
   "source": [
    "import pandas as pd\n",
    "\n",
    "imdb = pd.read_csv(\"../dados/imdb.csv\")\n",
    "imdb_simples = imdb.filter([\"titulo\", \"ano\"])\n"
   ]
  },
  {
   "attachments": {},
   "cell_type": "markdown",
   "metadata": {},
   "source": [
    "### Exercícios\n",
    "\n",
    "Os exercícios abaixo consideram a base do IMDB."
   ]
  },
  {
   "cell_type": "code",
   "execution_count": null,
   "metadata": {},
   "outputs": [],
   "source": [
    "# Objetivo: descobrir qual o filme mais caro \n",
    "\n",
    "(imdb.\n",
    "    query(\"ano >= 2000 & ano < 2010\").\n",
    "    query(\"orcamento == orcamento.max()\")\n",
    ")"
   ]
  },
  {
   "cell_type": "code",
   "execution_count": null,
   "metadata": {},
   "outputs": [],
   "source": [
    "# Iloc is used to select some rows \n",
    "x = imdb.sort_values(\"orcamento\",ascending=False).iloc(0)\n"
   ]
  },
  {
   "cell_type": "code",
   "execution_count": null,
   "metadata": {},
   "outputs": [],
   "source": [
    "# Objetivo: pegar todos os filmes que sejam do genero \"Comedy\"\n",
    "# One can only change a Series to a string, but not a Data Frame \n",
    "imdb_comedy = imdb[imdb[\"generos\"].str.contains(\"Comedy\")]\n"
   ]
  },
  {
   "cell_type": "code",
   "execution_count": null,
   "metadata": {},
   "outputs": [],
   "source": []
  },
  {
   "attachments": {},
   "cell_type": "markdown",
   "metadata": {},
   "source": [
    "### Mutate"
   ]
  },
  {
   "cell_type": "code",
   "execution_count": null,
   "metadata": {},
   "outputs": [],
   "source": [
    "imdb_simples.assign(\n",
    "    coluna_nova = imdb_simples.filter(['ano']) < 1945,\n",
    "    # não é muito recomendado fazer isso ^\n",
    "    coluna_nova2 = imdb_simples.filter(['ano']) < 1945,\n",
    "    # esse é o jeito elgal de criar essa coluna ^\n",
    "    coluna_numero = imdb_simples.filter(['ano'])-1900\n",
    ")"
   ]
  },
  {
   "cell_type": "code",
   "execution_count": null,
   "metadata": {},
   "outputs": [],
   "source": [
    "(imdb.assign(\n",
    "    lucro = lambda x: x.receita-x.orcamento,\n",
    "    # essa linha é igual a trocar o x. por imdb. e tirar o \"lambda x\"\n",
    "    # x. vira imdb., então:  x.receita-x.orcamento vira imdb.receita-imdb.orcamento\n",
    "    categoria_lucrou = lambda x: x.lucro > 0,\n",
    "    duracao = imdb.duracao/60\n",
    ").\n",
    " filter([\"titulo\",\"ano\", \"lucro\", \"duracao\", \"categoria_lucrou\"]))"
   ]
  },
  {
   "cell_type": "code",
   "execution_count": null,
   "metadata": {},
   "outputs": [],
   "source": [
    "imdb2 = imdb.copy()\n",
    "imdb2['lucrou'] = imdb2['receita'] > imdb2['orcamento']\n",
    "imdb2.filter([\"lucrou\"])"
   ]
  },
  {
   "cell_type": "code",
   "execution_count": null,
   "metadata": {},
   "outputs": [],
   "source": [
    "imdb = imdb.drop([\"lucrou\"], axis = \"columns\")"
   ]
  },
  {
   "cell_type": "code",
   "execution_count": null,
   "metadata": {},
   "outputs": [],
   "source": [
    "imdb2 = imdb.copy()\n",
    "imdb2['lucrou'] = imdb2['receita'] > imdb2['orcamento']\n",
    "imdb2.filter([\"lucrou\"])"
   ]
  },
  {
   "cell_type": "code",
   "execution_count": null,
   "metadata": {},
   "outputs": [],
   "source": [
    "# case when\n",
    "import numpy as np\n",
    "lucrou_df = imdb.assign(\n",
    "    lucro = lambda x: x[\"receita\"] - x['orcamento'],\n",
    "    lucrou_bastante = lambda x: np.select(\n",
    "        [x.lucro >  1000000, x.lucro > 0, x.lucro.isnull()], \n",
    "        [\"Mais de milhão\", \"Pouco\", \"Sem info\"], \n",
    "        \"Não lucrou\"\n",
    "    )\n",
    ").filter([\"lucro\", \"lucrou_bastante\"])"
   ]
  },
  {
   "cell_type": "code",
   "execution_count": null,
   "metadata": {},
   "outputs": [],
   "source": [
    "lucrou_df.lucrou_bastante.value_counts()"
   ]
  },
  {
   "attachments": {},
   "cell_type": "markdown",
   "metadata": {},
   "source": [
    "### Exercícios"
   ]
  },
  {
   "cell_type": "code",
   "execution_count": null,
   "metadata": {},
   "outputs": [],
   "source": [
    "# Obter um dataframe com os filmes que deram prejuizo.\n"
   ]
  },
  {
   "cell_type": "code",
   "execution_count": null,
   "metadata": {},
   "outputs": [],
   "source": [
    "# Obter os filmes que possuem a palavra 'love' no título.\n",
    "(imdb.assign(\n",
    "    imdb_love = lambda x: x.titulo.str.contains(\"love\")\n",
    "    ).\n",
    "    query(\"imdb_love\")\n",
    ")"
   ]
  },
  {
   "cell_type": "code",
   "execution_count": 26,
   "metadata": {},
   "outputs": [],
   "source": [
    "# Obter os files com gênero 'Drama' e ordernar pela quantidade de\n",
    "# vezes que a palavra 'woman' (mulher) aparece na descrição.\n",
    "df= (imdb.assign(\n",
    "    imdb_drama = lambda x: x.generos.str.contains(\"Drama\"),\n",
    "    imdb_women = lambda x: x.descricao.str.lower().str.count(\"women\")\n",
    "    ).\n",
    "    query(\"imdb_drama\").\n",
    "    sort_values( ['imdb_women'], ascending=False )\n",
    ")\n",
    "\n"
   ]
  },
  {
   "attachments": {},
   "cell_type": "markdown",
   "metadata": {},
   "source": [
    "### Summarise\n",
    "###### 4 options to aggregate"
   ]
  },
  {
   "cell_type": "code",
   "execution_count": 27,
   "metadata": {},
   "outputs": [
    {
     "data": {
      "text/html": [
       "<div>\n",
       "<style scoped>\n",
       "    .dataframe tbody tr th:only-of-type {\n",
       "        vertical-align: middle;\n",
       "    }\n",
       "\n",
       "    .dataframe tbody tr th {\n",
       "        vertical-align: top;\n",
       "    }\n",
       "\n",
       "    .dataframe thead th {\n",
       "        text-align: right;\n",
       "    }\n",
       "</style>\n",
       "<table border=\"1\" class=\"dataframe\">\n",
       "  <thead>\n",
       "    <tr style=\"text-align: right;\">\n",
       "      <th></th>\n",
       "      <th>duracao</th>\n",
       "      <th>orcamento</th>\n",
       "    </tr>\n",
       "  </thead>\n",
       "  <tbody>\n",
       "    <tr>\n",
       "      <th>mean</th>\n",
       "      <td>9.305483e+01</td>\n",
       "      <td>1.213561e+07</td>\n",
       "    </tr>\n",
       "    <tr>\n",
       "      <th>sum</th>\n",
       "      <td>2.651132e+06</td>\n",
       "      <td>1.270598e+11</td>\n",
       "    </tr>\n",
       "    <tr>\n",
       "      <th>count</th>\n",
       "      <td>2.849000e+04</td>\n",
       "      <td>1.047000e+04</td>\n",
       "    </tr>\n",
       "  </tbody>\n",
       "</table>\n",
       "</div>"
      ],
      "text/plain": [
       "            duracao     orcamento\n",
       "mean   9.305483e+01  1.213561e+07\n",
       "sum    2.651132e+06  1.270598e+11\n",
       "count  2.849000e+04  1.047000e+04"
      ]
     },
     "execution_count": 27,
     "metadata": {},
     "output_type": "execute_result"
    }
   ],
   "source": [
    "imdb.filter([\"duracao\", \"orcamento\"]).agg([\"mean\", \"sum\", \"count\"])"
   ]
  },
  {
   "cell_type": "code",
   "execution_count": 30,
   "metadata": {},
   "outputs": [
    {
     "data": {
      "text/html": [
       "<div>\n",
       "<style scoped>\n",
       "    .dataframe tbody tr th:only-of-type {\n",
       "        vertical-align: middle;\n",
       "    }\n",
       "\n",
       "    .dataframe tbody tr th {\n",
       "        vertical-align: top;\n",
       "    }\n",
       "\n",
       "    .dataframe thead th {\n",
       "        text-align: right;\n",
       "    }\n",
       "</style>\n",
       "<table border=\"1\" class=\"dataframe\">\n",
       "  <thead>\n",
       "    <tr style=\"text-align: right;\">\n",
       "      <th></th>\n",
       "      <th>duracao</th>\n",
       "      <th>orcamento</th>\n",
       "    </tr>\n",
       "  </thead>\n",
       "  <tbody>\n",
       "    <tr>\n",
       "      <th>mean</th>\n",
       "      <td>93.054826</td>\n",
       "      <td>1.213561e+07</td>\n",
       "    </tr>\n",
       "    <tr>\n",
       "      <th>count</th>\n",
       "      <td>NaN</td>\n",
       "      <td>1.047000e+04</td>\n",
       "    </tr>\n",
       "  </tbody>\n",
       "</table>\n",
       "</div>"
      ],
      "text/plain": [
       "         duracao     orcamento\n",
       "mean   93.054826  1.213561e+07\n",
       "count        NaN  1.047000e+04"
      ]
     },
     "execution_count": 30,
     "metadata": {},
     "output_type": "execute_result"
    }
   ],
   "source": [
    "  imdb.agg({\n",
    "  \"duracao\": [\"mean\"],\n",
    "  \"orcamento\": [\"mean\", \"count\"]\n",
    "})"
   ]
  },
  {
   "cell_type": "code",
   "execution_count": 37,
   "metadata": {},
   "outputs": [
    {
     "data": {
      "text/html": [
       "<div>\n",
       "<style scoped>\n",
       "    .dataframe tbody tr th:only-of-type {\n",
       "        vertical-align: middle;\n",
       "    }\n",
       "\n",
       "    .dataframe tbody tr th {\n",
       "        vertical-align: top;\n",
       "    }\n",
       "\n",
       "    .dataframe thead th {\n",
       "        text-align: right;\n",
       "    }\n",
       "</style>\n",
       "<table border=\"1\" class=\"dataframe\">\n",
       "  <thead>\n",
       "    <tr style=\"text-align: right;\">\n",
       "      <th></th>\n",
       "      <th>ano</th>\n",
       "      <th>duracao_media</th>\n",
       "      <th>desv_pad_duracao</th>\n",
       "      <th>receita_max</th>\n",
       "    </tr>\n",
       "  </thead>\n",
       "  <tbody>\n",
       "    <tr>\n",
       "      <th>0</th>\n",
       "      <td>1894.0</td>\n",
       "      <td>45.000000</td>\n",
       "      <td>NaN</td>\n",
       "      <td>NaN</td>\n",
       "    </tr>\n",
       "    <tr>\n",
       "      <th>1</th>\n",
       "      <td>1912.0</td>\n",
       "      <td>80.000000</td>\n",
       "      <td>28.284271</td>\n",
       "      <td>NaN</td>\n",
       "    </tr>\n",
       "    <tr>\n",
       "      <th>2</th>\n",
       "      <td>1913.0</td>\n",
       "      <td>88.000000</td>\n",
       "      <td>NaN</td>\n",
       "      <td>NaN</td>\n",
       "    </tr>\n",
       "    <tr>\n",
       "      <th>3</th>\n",
       "      <td>1914.0</td>\n",
       "      <td>73.312500</td>\n",
       "      <td>35.254728</td>\n",
       "      <td>NaN</td>\n",
       "    </tr>\n",
       "    <tr>\n",
       "      <th>4</th>\n",
       "      <td>1915.0</td>\n",
       "      <td>74.066667</td>\n",
       "      <td>34.900812</td>\n",
       "      <td>NaN</td>\n",
       "    </tr>\n",
       "    <tr>\n",
       "      <th>...</th>\n",
       "      <td>...</td>\n",
       "      <td>...</td>\n",
       "      <td>...</td>\n",
       "      <td>...</td>\n",
       "    </tr>\n",
       "    <tr>\n",
       "      <th>105</th>\n",
       "      <td>2016.0</td>\n",
       "      <td>93.359033</td>\n",
       "      <td>13.625927</td>\n",
       "      <td>1.153332e+09</td>\n",
       "    </tr>\n",
       "    <tr>\n",
       "      <th>106</th>\n",
       "      <td>2017.0</td>\n",
       "      <td>92.982320</td>\n",
       "      <td>13.029991</td>\n",
       "      <td>1.332540e+09</td>\n",
       "    </tr>\n",
       "    <tr>\n",
       "      <th>107</th>\n",
       "      <td>2018.0</td>\n",
       "      <td>93.658014</td>\n",
       "      <td>13.717957</td>\n",
       "      <td>2.048360e+09</td>\n",
       "    </tr>\n",
       "    <tr>\n",
       "      <th>108</th>\n",
       "      <td>2019.0</td>\n",
       "      <td>95.173104</td>\n",
       "      <td>18.143177</td>\n",
       "      <td>2.797801e+09</td>\n",
       "    </tr>\n",
       "    <tr>\n",
       "      <th>109</th>\n",
       "      <td>2020.0</td>\n",
       "      <td>94.615942</td>\n",
       "      <td>14.667130</td>\n",
       "      <td>2.018585e+08</td>\n",
       "    </tr>\n",
       "  </tbody>\n",
       "</table>\n",
       "<p>110 rows × 4 columns</p>\n",
       "</div>"
      ],
      "text/plain": [
       "        ano  duracao_media  desv_pad_duracao   receita_max\n",
       "0    1894.0      45.000000               NaN           NaN\n",
       "1    1912.0      80.000000         28.284271           NaN\n",
       "2    1913.0      88.000000               NaN           NaN\n",
       "3    1914.0      73.312500         35.254728           NaN\n",
       "4    1915.0      74.066667         34.900812           NaN\n",
       "..      ...            ...               ...           ...\n",
       "105  2016.0      93.359033         13.625927  1.153332e+09\n",
       "106  2017.0      92.982320         13.029991  1.332540e+09\n",
       "107  2018.0      93.658014         13.717957  2.048360e+09\n",
       "108  2019.0      95.173104         18.143177  2.797801e+09\n",
       "109  2020.0      94.615942         14.667130  2.018585e+08\n",
       "\n",
       "[110 rows x 4 columns]"
      ]
     },
     "execution_count": 37,
     "metadata": {},
     "output_type": "execute_result"
    }
   ],
   "source": [
    "imdb.groupby([\"ano\"], as_index = False).agg(\n",
    "  duracao_media = (\"duracao\", \"mean\"),\n",
    "  desv_pad_duracao = (\"duracao\", \"std\"),\n",
    "  receita_max = (\"receita\", max)\n",
    ")\n"
   ]
  },
  {
   "cell_type": "code",
   "execution_count": 36,
   "metadata": {},
   "outputs": [
    {
     "data": {
      "text/html": [
       "<div>\n",
       "<style scoped>\n",
       "    .dataframe tbody tr th:only-of-type {\n",
       "        vertical-align: middle;\n",
       "    }\n",
       "\n",
       "    .dataframe tbody tr th {\n",
       "        vertical-align: top;\n",
       "    }\n",
       "\n",
       "    .dataframe thead th {\n",
       "        text-align: right;\n",
       "    }\n",
       "</style>\n",
       "<table border=\"1\" class=\"dataframe\">\n",
       "  <thead>\n",
       "    <tr style=\"text-align: right;\">\n",
       "      <th></th>\n",
       "      <th></th>\n",
       "      <th>duracao_media</th>\n",
       "      <th>desv_pad_duracao</th>\n",
       "      <th>receita_max</th>\n",
       "      <th>lucro_medio</th>\n",
       "    </tr>\n",
       "  </thead>\n",
       "  <tbody>\n",
       "    <tr>\n",
       "      <th>0</th>\n",
       "      <th>0</th>\n",
       "      <td>45.000000</td>\n",
       "      <td>NaN</td>\n",
       "      <td>NaN</td>\n",
       "      <td>NaN</td>\n",
       "    </tr>\n",
       "    <tr>\n",
       "      <th>1</th>\n",
       "      <th>0</th>\n",
       "      <td>80.000000</td>\n",
       "      <td>28.284271</td>\n",
       "      <td>NaN</td>\n",
       "      <td>NaN</td>\n",
       "    </tr>\n",
       "    <tr>\n",
       "      <th>2</th>\n",
       "      <th>0</th>\n",
       "      <td>88.000000</td>\n",
       "      <td>NaN</td>\n",
       "      <td>NaN</td>\n",
       "      <td>NaN</td>\n",
       "    </tr>\n",
       "    <tr>\n",
       "      <th>3</th>\n",
       "      <th>0</th>\n",
       "      <td>73.312500</td>\n",
       "      <td>35.254728</td>\n",
       "      <td>NaN</td>\n",
       "      <td>NaN</td>\n",
       "    </tr>\n",
       "    <tr>\n",
       "      <th>4</th>\n",
       "      <th>0</th>\n",
       "      <td>74.066667</td>\n",
       "      <td>34.900812</td>\n",
       "      <td>NaN</td>\n",
       "      <td>NaN</td>\n",
       "    </tr>\n",
       "    <tr>\n",
       "      <th>...</th>\n",
       "      <th>...</th>\n",
       "      <td>...</td>\n",
       "      <td>...</td>\n",
       "      <td>...</td>\n",
       "      <td>...</td>\n",
       "    </tr>\n",
       "    <tr>\n",
       "      <th>105</th>\n",
       "      <th>0</th>\n",
       "      <td>93.359033</td>\n",
       "      <td>13.625927</td>\n",
       "      <td>1.153332e+09</td>\n",
       "      <td>7.237195e+07</td>\n",
       "    </tr>\n",
       "    <tr>\n",
       "      <th>106</th>\n",
       "      <th>0</th>\n",
       "      <td>92.982320</td>\n",
       "      <td>13.029991</td>\n",
       "      <td>1.332540e+09</td>\n",
       "      <td>9.284472e+07</td>\n",
       "    </tr>\n",
       "    <tr>\n",
       "      <th>107</th>\n",
       "      <th>0</th>\n",
       "      <td>93.658014</td>\n",
       "      <td>13.717957</td>\n",
       "      <td>2.048360e+09</td>\n",
       "      <td>1.122318e+08</td>\n",
       "    </tr>\n",
       "    <tr>\n",
       "      <th>108</th>\n",
       "      <th>0</th>\n",
       "      <td>95.173104</td>\n",
       "      <td>18.143177</td>\n",
       "      <td>2.797801e+09</td>\n",
       "      <td>1.275660e+08</td>\n",
       "    </tr>\n",
       "    <tr>\n",
       "      <th>109</th>\n",
       "      <th>0</th>\n",
       "      <td>94.615942</td>\n",
       "      <td>14.667130</td>\n",
       "      <td>2.018585e+08</td>\n",
       "      <td>-4.284901e+06</td>\n",
       "    </tr>\n",
       "  </tbody>\n",
       "</table>\n",
       "<p>110 rows × 4 columns</p>\n",
       "</div>"
      ],
      "text/plain": [
       "       duracao_media  desv_pad_duracao   receita_max   lucro_medio\n",
       "0   0      45.000000               NaN           NaN           NaN\n",
       "1   0      80.000000         28.284271           NaN           NaN\n",
       "2   0      88.000000               NaN           NaN           NaN\n",
       "3   0      73.312500         35.254728           NaN           NaN\n",
       "4   0      74.066667         34.900812           NaN           NaN\n",
       "...              ...               ...           ...           ...\n",
       "105 0      93.359033         13.625927  1.153332e+09  7.237195e+07\n",
       "106 0      92.982320         13.029991  1.332540e+09  9.284472e+07\n",
       "107 0      93.658014         13.717957  2.048360e+09  1.122318e+08\n",
       "108 0      95.173104         18.143177  2.797801e+09  1.275660e+08\n",
       "109 0      94.615942         14.667130  2.018585e+08 -4.284901e+06\n",
       "\n",
       "[110 rows x 4 columns]"
      ]
     },
     "execution_count": 36,
     "metadata": {},
     "output_type": "execute_result"
    }
   ],
   "source": [
    "imdb.groupby('ano', as_index=False).apply(lambda x: pd.DataFrame({\n",
    "    \"duracao_media\": [x.duracao.mean()],\n",
    "    \"desv_pad_duracao\": [x.duracao.std()],\n",
    "    \"receita_max\": [x.receita.max()],\n",
    "    \"lucro_medio\": [(x.receita - x.orcamento).mean()]\n",
    "}))"
   ]
  },
  {
   "attachments": {},
   "cell_type": "markdown",
   "metadata": {},
   "source": [
    "### Exercícios"
   ]
  },
  {
   "cell_type": "code",
   "execution_count": null,
   "metadata": {},
   "outputs": [],
   "source": [
    "# Obtenha os 10 anos com as as maiores notas médias do IMDB.\n",
    "# Coloque em um data frame ordeno pela média das notas."
   ]
  },
  {
   "cell_type": "code",
   "execution_count": null,
   "metadata": {},
   "outputs": [],
   "source": [
    "# Obtenha a proporção de filmes que deram prejuizo por ano."
   ]
  },
  {
   "attachments": {},
   "cell_type": "markdown",
   "metadata": {},
   "source": [
    "### Left join"
   ]
  },
  {
   "cell_type": "code",
   "execution_count": null,
   "metadata": {},
   "outputs": [],
   "source": [
    "lucro_direcao = (imdb.\n",
    "    assign(\n",
    "        lucro = lambda x: x.receita - x.orcamento\n",
    "    ).\n",
    "    groupby([\"direcao\"], as_index = False).\n",
    "    agg(\n",
    "        lucro_medio = ('lucro', 'mean')\n",
    "    )\n",
    ")\n",
    "lucro_direcao"
   ]
  },
  {
   "cell_type": "code",
   "execution_count": null,
   "metadata": {},
   "outputs": [],
   "source": [
    "imdb_com_lucro = pd.merge(imdb, lucro_direcao, how = \"left\", on = [\"direcao\"])"
   ]
  },
  {
   "cell_type": "code",
   "execution_count": null,
   "metadata": {},
   "outputs": [],
   "source": [
    "(imdb_com_lucro.\n",
    "    assign(lucro = lambda x: x.receita - x.orcamento).\n",
    "    filter([\"titulo\", \"lucro\", \"lucro_medio\"])\n",
    ")"
   ]
  }
 ],
 "metadata": {
  "kernelspec": {
   "display_name": "Python 3",
   "language": "python",
   "name": "python3"
  },
  "language_info": {
   "codemirror_mode": {
    "name": "ipython",
    "version": 3
   },
   "file_extension": ".py",
   "mimetype": "text/x-python",
   "name": "python",
   "nbconvert_exporter": "python",
   "pygments_lexer": "ipython3",
   "version": "3.9.13"
  },
  "orig_nbformat": 4,
  "vscode": {
   "interpreter": {
    "hash": "a0e3e0edbf78f3896ccb509f4d516822c6c8dc8c9fd8a9a32161914d9732275d"
   }
  }
 },
 "nbformat": 4,
 "nbformat_minor": 2
}
